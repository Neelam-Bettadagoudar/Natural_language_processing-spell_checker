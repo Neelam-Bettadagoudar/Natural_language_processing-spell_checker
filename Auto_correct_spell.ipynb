{
  "nbformat": 4,
  "nbformat_minor": 0,
  "metadata": {
    "colab": {
      "name": "Auto_correct_spell.ipynb",
      "provenance": [],
      "collapsed_sections": []
    },
    "kernelspec": {
      "name": "python3",
      "display_name": "Python 3"
    },
    "language_info": {
      "name": "python"
    }
  },
  "cells": [
    {
      "cell_type": "code",
      "source": [
        "import os\n",
        "import pandas as pd\n",
        "import re                                  #regular expression\n",
        "from collections import Counter            #creating frequency count dict\n",
        "import heapq                               #for selecting n larges"
      ],
      "metadata": {
        "id": "a_cbAMLzqUuL"
      },
      "execution_count": 39,
      "outputs": []
    },
    {
      "cell_type": "code",
      "source": [
        "def words(text): return re.findall(r'\\w+', text.lower())\n",
        "\n",
        "WORDS = Counter(words(open('big.txt').read()))\n",
        "WORDS.most_common(10)"
      ],
      "metadata": {
        "colab": {
          "base_uri": "https://localhost:8080/"
        },
        "id": "quPFBYmr9_VX",
        "outputId": "b76662fd-61b3-42e8-9bb4-6f97888f4e85"
      },
      "execution_count": 42,
      "outputs": [
        {
          "output_type": "execute_result",
          "data": {
            "text/plain": [
              "[('the', 79809),\n",
              " ('of', 40024),\n",
              " ('and', 38312),\n",
              " ('to', 28765),\n",
              " ('in', 22023),\n",
              " ('a', 21124),\n",
              " ('that', 12512),\n",
              " ('he', 12401),\n",
              " ('was', 11410),\n",
              " ('it', 10681)]"
            ]
          },
          "metadata": {},
          "execution_count": 42
        }
      ]
    },
    {
      "cell_type": "code",
      "source": [
        "def P(word, N=sum(WORDS.values())): \n",
        "    \"Probability of `word`.\"\n",
        "    return WORDS[word] / N\n",
        "\t\n",
        "def correction(word): \n",
        "    \"Most probable spelling correction for word.\"\n",
        "    listProb = {word: P(word) for word in candidates(word)}\n",
        "    return listProb, max(candidates(word), key=P)\n",
        "\t\n",
        "def candidates(word): \n",
        "    \"Generate possible spelling corrections for word.\"\n",
        "    return (known([word]) or known(edits1(word)) or known(edits2(word)) or [word])\n",
        "\t\n",
        "def known(words): \n",
        "    \"The subset of `words` that appear in the dictionary of WORDS.\"\n",
        "    return set(w for w in words if w in WORDS)"
      ],
      "metadata": {
        "id": "sfKiXN1t-got"
      },
      "execution_count": 43,
      "outputs": []
    },
    {
      "cell_type": "code",
      "source": [
        "def edits1(word):\n",
        "    \"All edits that are one edit away from `word`.\"\n",
        "    letters    = 'abcdefghijklmnopqrstuvwxyz'\n",
        "    splits     = [(word[:i], word[i:])    for i in range(len(word) + 1)]\n",
        "    deletes    = [L + R[1:]               for L, R in splits if R]\n",
        "    transposes = [L + R[1] + R[0] + R[2:] for L, R in splits if len(R)>1]\n",
        "    replaces   = [L + c + R[1:]           for L, R in splits if R for c in letters]\n",
        "    inserts    = [L + c + R               for L, R in splits for c in letters]\n",
        "    return set(deletes + transposes + replaces + inserts)\n",
        "\n",
        "def edits2(word): \n",
        "    \"All edits that are two edits away from `word`.\"\n",
        "    return (e2 for e1 in edits1(word) for e2 in edits1(e1))"
      ],
      "metadata": {
        "id": "jFBUGOXE-glS"
      },
      "execution_count": 44,
      "outputs": []
    },
    {
      "cell_type": "code",
      "source": [
        "def get_correct_word(word):\n",
        "    corrected_word = next(iter(correction(word)[0]))\n",
        "    print(\"Word passed: \", word, \" Word corrected To: \", corrected_word)\n",
        "    return corrected_word\n",
        "\n",
        "print(get_correct_word(input()))"
      ],
      "metadata": {
        "colab": {
          "base_uri": "https://localhost:8080/"
        },
        "id": "zM3XNE9O-git",
        "outputId": "623dac02-7cfe-4c9e-a82f-10c5e3490674"
      },
      "execution_count": 48,
      "outputs": [
        {
          "output_type": "stream",
          "name": "stdout",
          "text": [
            "coool\n",
            "Word passed:  coool  Word corrected To:  cool\n",
            "cool\n"
          ]
        }
      ]
    },
    {
      "cell_type": "code",
      "source": [
        ""
      ],
      "metadata": {
        "id": "c0aBGQOF8OMn"
      },
      "execution_count": null,
      "outputs": []
    }
  ]
}